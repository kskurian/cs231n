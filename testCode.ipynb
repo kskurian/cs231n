{
 "cells": [
  {
   "cell_type": "code",
   "execution_count": 47,
   "metadata": {},
   "outputs": [
    {
     "name": "stdout",
     "output_type": "stream",
     "text": [
      "2\n"
     ]
    }
   ],
   "source": [
    "import matplotlib.pyplot as pl\n",
    "x = 1 + 1\n",
    "print(x)"
   ]
  },
  {
   "cell_type": "code",
   "execution_count": 2,
   "metadata": {},
   "outputs": [
    {
     "name": "stdout",
     "output_type": "stream",
     "text": [
      "[1, 2, 3, 4, 5, 6, 7, 8]\n",
      "[0 1 2 3]\n"
     ]
    }
   ],
   "source": [
    "import numpy as np\n",
    "y = [1,2,3,4,5,6,7,8]\n",
    "matrx = np.arange(4)\n",
    "print(y)\n",
    "print(matrx)"
   ]
  },
  {
   "cell_type": "code",
   "execution_count": 11,
   "metadata": {},
   "outputs": [
    {
     "name": "stdout",
     "output_type": "stream",
     "text": [
      "[[ 7 10]\n",
      " [19 26]]\n",
      "(2, 2)\n",
      "[[ 5 12]\n",
      " [ 3  8]]\n",
      "[[ 3  6]\n",
      " [ 9 12]]\n"
     ]
    }
   ],
   "source": [
    "# Types of multiplication\n",
    "x = np.array([[1,2],[3,4]])\n",
    "y = np.array([[5,6],[1,2]])\n",
    "\n",
    "z = x.dot(y)\n",
    "print(z) # matrix multiplication\n",
    "print(z.shape)\n",
    "print(x * y) # element wise product\n",
    "print(x * 3) # scalar multiplication\n"
   ]
  },
  {
   "cell_type": "code",
   "execution_count": 17,
   "metadata": {},
   "outputs": [
    {
     "name": "stdout",
     "output_type": "stream",
     "text": [
      "[False False False  True False False False]\n",
      "[3]\n"
     ]
    }
   ],
   "source": [
    "#To get a subset of a list, for a specific value required\n",
    "xlng = np.arange(7)\n",
    "zchk = 3\n",
    "print(xlng == zchk)\n",
    "print(np.flatnonzero(xlng == zchk))"
   ]
  },
  {
   "cell_type": "code",
   "execution_count": 27,
   "metadata": {},
   "outputs": [
    {
     "name": "stdout",
     "output_type": "stream",
     "text": [
      "range(0, 5)\n",
      "[0, 1, 2, 3, 4]\n",
      "[1, 4, 5, 7, 34, 3, 42, 16, 78]\n",
      "None\n",
      "[78, 16, 42, 3, 34, 7, 5, 4, 1]\n",
      "[78 16 42  3 34]\n"
     ]
    }
   ],
   "source": [
    "#Creating a list of the given length\n",
    "num_training = 5\n",
    "rng = range(num_training)\n",
    "print(rng)\n",
    "mask = list(rng)\n",
    "print(mask)\n",
    "lt = [1,4,5,7,34,3,42,16,78]\n",
    "print(lt)\n",
    "print(lt.reverse())\n",
    "print(lt)\n",
    "print(np.asarray(lt)[mask])"
   ]
  },
  {
   "cell_type": "code",
   "execution_count": 69,
   "metadata": {},
   "outputs": [
    {
     "name": "stdout",
     "output_type": "stream",
     "text": [
      "e : \n",
      "[[6. 2. 9. 8.]\n",
      " [8. 3. 1. 7.]\n",
      " [8. 1. 5. 7.]]\n",
      "f : \n",
      "[[2. 7. 8. 9.]\n",
      " [8. 0. 0. 3.]\n",
      " [5. 4. 4. 5.]]\n",
      "[[  4.   0.   0.   0.]\n",
      " [  0.   1.   0. 100.]\n",
      " [  3.   0.   1.   4.]\n",
      " [  3.   0.   0.   1.]]\n",
      "g\n",
      "[[ 6.55743852 10.67707825  6.244998  ]\n",
      " [10.24695077  5.09901951  4.79583152]\n",
      " [ 9.21954446  6.4807407   4.79583152]]\n"
     ]
    },
    {
     "data": {
      "text/plain": [
       "<function matplotlib.pyplot.show(*args, **kw)>"
      ]
     },
     "execution_count": 69,
     "metadata": {},
     "output_type": "execute_result"
    },
    {
     "data": {
      "image/png": "[encoded data removed]",
      "text/plain": [
       "<Figure size 432x288 with 1 Axes>"
      ]
     },
     "metadata": {
      "needs_background": "light"
     },
     "output_type": "display_data"
    }
   ],
   "source": [
    "#To see hoe plot works\n",
    "import math\n",
    "e = np.floor(np.random.random((3,4)) * 10)\n",
    "f = np.floor(np.random.random((3,4)) * 10)\n",
    "g = np.zeros((3,3))\n",
    "e.astype(int)\n",
    "f.astype(int)\n",
    "print('e : ')\n",
    "print(e)\n",
    "print('f : ')\n",
    "print(f)\n",
    "for i in range(3):\n",
    "    for j in range(3):\n",
    "        tmp = e[i]-f[j]\n",
    "        tmp = tmp * tmp\n",
    "        g[i][j] = (np.sqrt(np.sum(tmp)))\n",
    "e1=np.eye(4)\n",
    "e1[0][0] = 4\n",
    "e1[2][0] = 3\n",
    "e1[3][0] = 3\n",
    "e1[2][3] = 4\n",
    "e1[1][3] = 100\n",
    "\n",
    "print(e1)\n",
    "pl.imshow(e1,interpolation='none')\n",
    "pl.show\n",
    "\n",
    "for i in range(3):\n",
    "    closest = np.argsort(g[i])\n",
    "    print(closest.shape[0])\n",
    "    print(closest)\n",
    "\n",
    "print(g)\n",
    "pl.imshow(g,interpolation='none')\n",
    "pl.show"
   ]
  },
  {
   "cell_type": "code",
   "execution_count": 78,
   "metadata": {},
   "outputs": [
    {
     "name": "stdout",
     "output_type": "stream",
     "text": [
      "e : \n",
      "[7. 4. 6. 8.]\n",
      "f : \n",
      "[[5. 6. 0. 4.]\n",
      " [2. 8. 6. 8.]\n",
      " [3. 8. 7. 6.]\n",
      " [4. 5. 6. 9.]\n",
      " [1. 2. 0. 4.]\n",
      " [4. 1. 3. 2.]\n",
      " [2. 9. 2. 8.]\n",
      " [6. 8. 7. 0.]]\n",
      "[[-2.  2. -6. -4.]\n",
      " [-5.  4.  0.  0.]\n",
      " [-4.  4.  1. -2.]\n",
      " [-3.  1.  0.  1.]\n",
      " [-6. -2. -6. -4.]\n",
      " [-3. -3. -3. -6.]\n",
      " [-5.  5. -4.  0.]\n",
      " [-1.  4.  1. -8.]]\n",
      "[[ 4.  4. 36. 16.]\n",
      " [25. 16.  0.  0.]\n",
      " [16. 16.  1.  4.]\n",
      " [ 9.  1.  0.  1.]\n",
      " [36.  4. 36. 16.]\n",
      " [ 9.  9.  9. 36.]\n",
      " [25. 25. 16.  0.]\n",
      " [ 1. 16.  1. 64.]]\n",
      "(8,)\n"
     ]
    }
   ],
   "source": [
    "#Eucleadian with one loop \n",
    "\n",
    "e = np.floor(np.random.random((3,4)) * 10)\n",
    "f = np.floor(np.random.random((8,4)) * 10)\n",
    "e.astype(int)\n",
    "f.astype(int)\n",
    "print('e : ',e[1,:])\n",
    "print('f : ',f)\n",
    "print('*********')\n",
    "g=f-e[1,:]\n",
    "g=g*g\n",
    "print('g : ',g)\n",
    "g=np.sum(g, axis=1)\n",
    "print(g.shape)"
   ]
  },
  {
   "cell_type": "code",
   "execution_count": 102,
   "metadata": {},
   "outputs": [
    {
     "name": "stdout",
     "output_type": "stream",
     "text": [
      "e : \n",
      " [[4. 7. 8. 7.]\n",
      " [3. 1. 7. 8.]\n",
      " [5. 1. 0. 8.]]\n",
      "f` : \n",
      " [[2. 9. 9. 9. 3. 6. 9. 2.]\n",
      " [5. 7. 3. 8. 6. 1. 5. 7.]\n",
      " [7. 7. 9. 3. 3. 5. 5. 6.]\n",
      " [1. 3. 6. 6. 2. 3. 5. 9.]]\n",
      "*********\n",
      "-2*e*f : \n",
      " [[-212. -324. -342. -316. -184. -184. -292. -336.]\n",
      " [-136. -214. -282. -208. -104. -156. -214. -254.]\n",
      " [ -46. -152. -192. -202.  -74. -110. -180. -178.]]\n",
      "*********\n",
      "f : y^2\n",
      " [[ 4. 25. 49.  1.]\n",
      " [81. 49. 49.  9.]\n",
      " [81.  9. 81. 36.]\n",
      " [81. 64.  9. 36.]\n",
      " [ 9. 36.  9.  4.]\n",
      " [36.  1. 25.  9.]\n",
      " [81. 25. 25. 25.]\n",
      " [ 4. 49. 36. 81.]]\n",
      "sum(f*f) : sum y^2 \n",
      " [ 79. 188. 207. 190.  58.  71. 156. 170.]\n",
      "shape(zy)  (8,)\n",
      "shape(mul)  (3, 8)\n",
      "sum(f*f) + -2xy : sum x^2 \n",
      " [[-133. -136. -135. -126. -126. -113. -136. -166.]\n",
      " [ -57.  -26.  -75.  -18.  -46.  -85.  -58.  -84.]\n",
      " [  33.   36.   15.  -12.  -16.  -39.  -24.   -8.]]\n",
      "*********\n",
      "e*e : x^2 \n",
      " [[16. 49. 64. 49.]\n",
      " [ 9.  1. 49. 64.]\n",
      " [25.  1.  0. 64.]]\n",
      "sum(e*e) : sum x^2 \n",
      " [178. 123.  90.]\n",
      "sum(e*e) + -2xy : sum x^2 \n",
      " [[ 45.  66. 123.]\n",
      " [ 42.  97. 126.]\n",
      " [ 43.  48. 105.]\n",
      " [ 52. 105.  78.]\n",
      " [ 52.  77.  74.]\n",
      " [ 65.  38.  51.]\n",
      " [ 42.  65.  66.]\n",
      " [ 12.  39.  82.]]\n",
      "*********\n",
      "Creating the eculiadean distance \n",
      " [[ 6.70820393  6.4807407   6.55743852  7.21110255  7.21110255  8.06225775\n",
      "   6.4807407   3.46410162]\n",
      " [ 8.1240384   9.8488578   6.92820323 10.24695077  8.77496439  6.164414\n",
      "   8.06225775  6.244998  ]\n",
      " [11.09053651 11.22497216 10.24695077  8.83176087  8.60232527  7.14142843\n",
      "   8.1240384   9.05538514]]\n",
      "shape(mul)  (3, 8)\n"
     ]
    }
   ],
   "source": [
    "#Eucleadian with no loop \n",
    "e = np.floor(np.random.random((3,4)) * 10)\n",
    "f = np.floor(np.random.random((8,4)) * 10)\n",
    "e.astype(int)\n",
    "f.astype(int)\n",
    "print('e : \\n',e)\n",
    "#print('f : \\n',f)\n",
    "\n",
    "print('f` : \\n',np.transpose(f))\n",
    "print('*********')\n",
    "mul = -2*(e.dot(np.transpose(f)))\n",
    "print('-2*e*f : \\n',mul)\n",
    "print('*********')\n",
    "print('f : y^2\\n',f*f)\n",
    "zy = np.sum(f*f,axis=1)\n",
    "print('sum(f*f) : sum y^2 \\n',zy)\n",
    "print('shape(zy) ', zy.shape)\n",
    "print('shape(mul) ', mul.shape)\n",
    "print('sum(f*f) + -2xy : sum x^2 \\n',mul+zy)\n",
    "print('*********')\n",
    "print('e*e : x^2 \\n',e*e)\n",
    "zx = np.sum(e*e,axis=1)\n",
    "print('sum(e*e) : sum x^2 \\n',zx)\n",
    "mul= mul+zy\n",
    "mulT=np.transpose(mul)\n",
    "mul = zx+mulT\n",
    "mul = np.transpose(mul)\n",
    "print('sum(e*e) + -2xy : sum x^2 \\n',zx+mulT)\n",
    "print('*********')\n",
    "print('Creating the eculiadean distance \\n',np.sqrt(mul))\n",
    "print('shape(mul) ', mul.shape)"
   ]
  },
  {
   "cell_type": "code",
   "execution_count": 110,
   "metadata": {},
   "outputs": [
    {
     "name": "stdout",
     "output_type": "stream",
     "text": [
      "e : \n",
      " [[4. 4. 2. 8.]\n",
      " [1. 5. 7. 5.]\n",
      " [1. 6. 4. 0.]\n",
      " [0. 2. 3. 1.]\n",
      " [4. 0. 2. 5.]\n",
      " [6. 6. 1. 7.]\n",
      " [6. 3. 6. 6.]\n",
      " [7. 0. 5. 4.]\n",
      " [2. 5. 9. 7.]\n",
      " [6. 7. 6. 8.]\n",
      " [6. 5. 7. 0.]\n",
      " [7. 7. 2. 0.]\n",
      " [4. 1. 9. 3.]\n",
      " [1. 3. 4. 7.]\n",
      " [3. 6. 7. 2.]]\n",
      "f : \n",
      " (15,)\n",
      "gf : \n",
      " [array([0, 1, 0]), array([1, 0, 1]), array([0, 0, 1]), array([1, 1, 0]), array([0, 1, 0])]\n",
      "ge : \n",
      " [array([[4., 4., 2., 8.],\n",
      "       [1., 5., 7., 5.],\n",
      "       [1., 6., 4., 0.]]), array([[0., 2., 3., 1.],\n",
      "       [4., 0., 2., 5.],\n",
      "       [6., 6., 1., 7.]]), array([[6., 3., 6., 6.],\n",
      "       [7., 0., 5., 4.],\n",
      "       [2., 5., 9., 7.]]), array([[6., 7., 6., 8.],\n",
      "       [6., 5., 7., 0.],\n",
      "       [7., 7., 2., 0.]]), array([[4., 1., 9., 3.],\n",
      "       [1., 3., 4., 7.],\n",
      "       [3., 6., 7., 2.]])]\n",
      "ge : \n",
      " <class 'list'>\n"
     ]
    }
   ],
   "source": [
    "#Making folds\n",
    "e = np.floor(np.random.random((15,4)) * 10)\n",
    "f = np.asarray([0, 1, 0 ,1 , 0, 1, 0 ,0, 1, 1 ,1 , 0, 0, 1, 0 ])\n",
    "e.astype(int)\n",
    "f.astype(int)\n",
    "print('e : \\n',e)\n",
    "print('f : \\n',f.shape)\n",
    "gf = np.array_split(f,5)\n",
    "print('gf : \\n',gf)\n",
    "ge = np.array_split(e,5)\n",
    "print('ge : \\n',ge)\n",
    "print('ge : \\n',type(ge))\n"
   ]
  },
  {
   "cell_type": "code",
   "execution_count": 112,
   "metadata": {},
   "outputs": [
    {
     "name": "stdout",
     "output_type": "stream",
     "text": [
      "0\n",
      "1\n",
      "2\n",
      "3\n"
     ]
    }
   ],
   "source": [
    "num_folds = 5\n",
    "for i in range(num_folds-1):\n",
    "    print(i)"
   ]
  },
  {
   "cell_type": "code",
   "execution_count": null,
   "metadata": {},
   "outputs": [],
   "source": []
  }
 ],
 "metadata": {
  "kernelspec": {
   "display_name": "Python 3",
   "language": "python",
   "name": "python3"
  },
  "language_info": {
   "codemirror_mode": {
    "name": "ipython",
    "version": 3
   },
   "file_extension": ".py",
   "mimetype": "text/x-python",
   "name": "python",
   "nbconvert_exporter": "python",
   "pygments_lexer": "ipython3",
   "version": "3.6.7"
  }
 },
 "nbformat": 4,
 "nbformat_minor": 2
}
